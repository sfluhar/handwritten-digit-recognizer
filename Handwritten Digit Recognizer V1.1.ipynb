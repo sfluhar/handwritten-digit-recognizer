{
 "cells": [
  {
   "cell_type": "markdown",
   "metadata": {},
   "source": [
    "## Digit Recognizer"
   ]
  },
  {
   "cell_type": "markdown",
   "metadata": {},
   "source": [
    "Based on the exercises in the https://www.datacamp.com/courses/deep-learning-in-python course and the https://www.kaggle.com/c/digit-recognizer competition. The purpose is to correctly classify each of the images, which represent handwritten digits, as as an integer between 0 and 9."
   ]
  },
  {
   "cell_type": "markdown",
   "metadata": {},
   "source": [
    "## Import Data and Exploratory Analysis"
   ]
  },
  {
   "cell_type": "markdown",
   "metadata": {},
   "source": [
    "These lines load the packages and libraries that the rest of the code will use. Among these are Keras, a deep learning library for Python users, which runs on top of TensorFlow, a deep learning package developed by Google. I had to download and install both of these before my code would run."
   ]
  },
  {
   "cell_type": "code",
   "execution_count": 27,
   "metadata": {},
   "outputs": [],
   "source": [
    "import pandas as pd\n",
    "import numpy as np\n",
    "import matplotlib.pyplot as plt\n",
    "import matplotlib.image as mpimg\n",
    "import seaborn as sns\n",
    "import random\n",
    "from sklearn.model_selection import train_test_split\n",
    "from keras.utils.np_utils import to_categorical\n",
    "from keras.models import Sequential\n",
    "from keras.layers import Dense, Dropout, Flatten, Conv2D, MaxPool2D, Reshape\n",
    "from keras.layers.normalization import BatchNormalization\n",
    "from keras.optimizers import RMSprop\n",
    "from keras.preprocessing.image import ImageDataGenerator\n",
    "from keras.callbacks import ReduceLROnPlateau"
   ]
  },
  {
   "cell_type": "code",
   "execution_count": 28,
   "metadata": {},
   "outputs": [],
   "source": [
    "# Load the data\n",
    "train1 = pd.read_csv(\"train1.csv\")\n",
    "train2 = pd.read_csv(\"train2.csv\")\n",
    "train3 = pd.read_csv(\"train3.csv\")\n",
    "train4 = pd.read_csv(\"train4.csv\")\n",
    "\n",
    "test1 = pd.read_csv(\"test1.csv\")\n",
    "test2 = pd.read_csv(\"test2.csv\")\n",
    "test3 = pd.read_csv(\"test3.csv\")\n",
    "\n",
    "train = train1.append(train2)\n",
    "train = train.append(train3)\n",
    "train = train.append(train4)\n",
    "\n",
    "test = test1.append(test2)\n",
    "test = test.append(test3)"
   ]
  },
  {
   "cell_type": "code",
   "execution_count": 29,
   "metadata": {},
   "outputs": [
    {
     "data": {
      "text/html": [
       "<div>\n",
       "<style scoped>\n",
       "    .dataframe tbody tr th:only-of-type {\n",
       "        vertical-align: middle;\n",
       "    }\n",
       "\n",
       "    .dataframe tbody tr th {\n",
       "        vertical-align: top;\n",
       "    }\n",
       "\n",
       "    .dataframe thead th {\n",
       "        text-align: right;\n",
       "    }\n",
       "</style>\n",
       "<table border=\"1\" class=\"dataframe\">\n",
       "  <thead>\n",
       "    <tr style=\"text-align: right;\">\n",
       "      <th></th>\n",
       "      <th>Unnamed: 0</th>\n",
       "      <th>label</th>\n",
       "      <th>pixel0</th>\n",
       "      <th>pixel1</th>\n",
       "      <th>pixel2</th>\n",
       "      <th>pixel3</th>\n",
       "      <th>pixel4</th>\n",
       "      <th>pixel5</th>\n",
       "      <th>pixel6</th>\n",
       "      <th>pixel7</th>\n",
       "      <th>...</th>\n",
       "      <th>pixel774</th>\n",
       "      <th>pixel775</th>\n",
       "      <th>pixel776</th>\n",
       "      <th>pixel777</th>\n",
       "      <th>pixel778</th>\n",
       "      <th>pixel779</th>\n",
       "      <th>pixel780</th>\n",
       "      <th>pixel781</th>\n",
       "      <th>pixel782</th>\n",
       "      <th>pixel783</th>\n",
       "    </tr>\n",
       "  </thead>\n",
       "  <tbody>\n",
       "    <tr>\n",
       "      <th>0</th>\n",
       "      <td>0</td>\n",
       "      <td>1</td>\n",
       "      <td>0</td>\n",
       "      <td>0</td>\n",
       "      <td>0</td>\n",
       "      <td>0</td>\n",
       "      <td>0</td>\n",
       "      <td>0</td>\n",
       "      <td>0</td>\n",
       "      <td>0</td>\n",
       "      <td>...</td>\n",
       "      <td>0</td>\n",
       "      <td>0</td>\n",
       "      <td>0</td>\n",
       "      <td>0</td>\n",
       "      <td>0</td>\n",
       "      <td>0</td>\n",
       "      <td>0</td>\n",
       "      <td>0</td>\n",
       "      <td>0</td>\n",
       "      <td>0</td>\n",
       "    </tr>\n",
       "    <tr>\n",
       "      <th>1</th>\n",
       "      <td>1</td>\n",
       "      <td>0</td>\n",
       "      <td>0</td>\n",
       "      <td>0</td>\n",
       "      <td>0</td>\n",
       "      <td>0</td>\n",
       "      <td>0</td>\n",
       "      <td>0</td>\n",
       "      <td>0</td>\n",
       "      <td>0</td>\n",
       "      <td>...</td>\n",
       "      <td>0</td>\n",
       "      <td>0</td>\n",
       "      <td>0</td>\n",
       "      <td>0</td>\n",
       "      <td>0</td>\n",
       "      <td>0</td>\n",
       "      <td>0</td>\n",
       "      <td>0</td>\n",
       "      <td>0</td>\n",
       "      <td>0</td>\n",
       "    </tr>\n",
       "    <tr>\n",
       "      <th>2</th>\n",
       "      <td>2</td>\n",
       "      <td>1</td>\n",
       "      <td>0</td>\n",
       "      <td>0</td>\n",
       "      <td>0</td>\n",
       "      <td>0</td>\n",
       "      <td>0</td>\n",
       "      <td>0</td>\n",
       "      <td>0</td>\n",
       "      <td>0</td>\n",
       "      <td>...</td>\n",
       "      <td>0</td>\n",
       "      <td>0</td>\n",
       "      <td>0</td>\n",
       "      <td>0</td>\n",
       "      <td>0</td>\n",
       "      <td>0</td>\n",
       "      <td>0</td>\n",
       "      <td>0</td>\n",
       "      <td>0</td>\n",
       "      <td>0</td>\n",
       "    </tr>\n",
       "    <tr>\n",
       "      <th>3</th>\n",
       "      <td>3</td>\n",
       "      <td>4</td>\n",
       "      <td>0</td>\n",
       "      <td>0</td>\n",
       "      <td>0</td>\n",
       "      <td>0</td>\n",
       "      <td>0</td>\n",
       "      <td>0</td>\n",
       "      <td>0</td>\n",
       "      <td>0</td>\n",
       "      <td>...</td>\n",
       "      <td>0</td>\n",
       "      <td>0</td>\n",
       "      <td>0</td>\n",
       "      <td>0</td>\n",
       "      <td>0</td>\n",
       "      <td>0</td>\n",
       "      <td>0</td>\n",
       "      <td>0</td>\n",
       "      <td>0</td>\n",
       "      <td>0</td>\n",
       "    </tr>\n",
       "    <tr>\n",
       "      <th>4</th>\n",
       "      <td>4</td>\n",
       "      <td>0</td>\n",
       "      <td>0</td>\n",
       "      <td>0</td>\n",
       "      <td>0</td>\n",
       "      <td>0</td>\n",
       "      <td>0</td>\n",
       "      <td>0</td>\n",
       "      <td>0</td>\n",
       "      <td>0</td>\n",
       "      <td>...</td>\n",
       "      <td>0</td>\n",
       "      <td>0</td>\n",
       "      <td>0</td>\n",
       "      <td>0</td>\n",
       "      <td>0</td>\n",
       "      <td>0</td>\n",
       "      <td>0</td>\n",
       "      <td>0</td>\n",
       "      <td>0</td>\n",
       "      <td>0</td>\n",
       "    </tr>\n",
       "  </tbody>\n",
       "</table>\n",
       "<p>5 rows × 786 columns</p>\n",
       "</div>"
      ],
      "text/plain": [
       "   Unnamed: 0  label  pixel0  pixel1  pixel2  pixel3  pixel4  pixel5  pixel6  \\\n",
       "0           0      1       0       0       0       0       0       0       0   \n",
       "1           1      0       0       0       0       0       0       0       0   \n",
       "2           2      1       0       0       0       0       0       0       0   \n",
       "3           3      4       0       0       0       0       0       0       0   \n",
       "4           4      0       0       0       0       0       0       0       0   \n",
       "\n",
       "   pixel7    ...     pixel774  pixel775  pixel776  pixel777  pixel778  \\\n",
       "0       0    ...            0         0         0         0         0   \n",
       "1       0    ...            0         0         0         0         0   \n",
       "2       0    ...            0         0         0         0         0   \n",
       "3       0    ...            0         0         0         0         0   \n",
       "4       0    ...            0         0         0         0         0   \n",
       "\n",
       "   pixel779  pixel780  pixel781  pixel782  pixel783  \n",
       "0         0         0         0         0         0  \n",
       "1         0         0         0         0         0  \n",
       "2         0         0         0         0         0  \n",
       "3         0         0         0         0         0  \n",
       "4         0         0         0         0         0  \n",
       "\n",
       "[5 rows x 786 columns]"
      ]
     },
     "execution_count": 29,
     "metadata": {},
     "output_type": "execute_result"
    }
   ],
   "source": [
    "# preview the train data, which represents the 784 pixels in each 28-pixel by 28-pixel image\n",
    "train.head()"
   ]
  },
  {
   "cell_type": "code",
   "execution_count": 30,
   "metadata": {},
   "outputs": [
    {
     "data": {
      "text/plain": [
       "(42000, 786)"
      ]
     },
     "execution_count": 30,
     "metadata": {},
     "output_type": "execute_result"
    }
   ],
   "source": [
    "# print the number of rows and columns in the dataframe\n",
    "train.shape"
   ]
  },
  {
   "cell_type": "markdown",
   "metadata": {},
   "source": [
    "## Separate for Validation"
   ]
  },
  {
   "cell_type": "markdown",
   "metadata": {},
   "source": [
    "We separate the predictors and the labels at this point. This allow us to process the pixels separarely before we fit the model to the target."
   ]
  },
  {
   "cell_type": "code",
   "execution_count": 5,
   "metadata": {},
   "outputs": [],
   "source": [
    "# include all of the data except the target/label column in X_train\n",
    "X_train = train.drop(labels = [\"label\"],axis = 1)\n",
    "Y_train = train[\"label\"]"
   ]
  },
  {
   "cell_type": "markdown",
   "metadata": {},
   "source": [
    "## Distribution"
   ]
  },
  {
   "cell_type": "markdown",
   "metadata": {},
   "source": [
    "The values 0 through 9 are distributed fairly evenly through the target. This means the data is balanced, which will make it easier for the classification model to do its job."
   ]
  },
  {
   "cell_type": "code",
   "execution_count": 6,
   "metadata": {},
   "outputs": [
    {
     "data": {
      "image/png": "[encoded data removed]",
      "text/plain": [
       "<Figure size 432x288 with 1 Axes>"
      ]
     },
     "metadata": {},
     "output_type": "display_data"
    }
   ],
   "source": [
    "sns.set(style='white', context='notebook', palette='deep')\n",
    "g = sns.countplot(Y_train)"
   ]
  },
  {
   "cell_type": "markdown",
   "metadata": {},
   "source": [
    "## Normalization"
   ]
  },
  {
   "cell_type": "markdown",
   "metadata": {},
   "source": [
    "This process makes it easier for us to train the deep learning model. There are 255 values for grayscale images, with 0 equal to black and 255 equal to white. Dividing each pixel in the images by 255 yields a number between 0 and 1, so that none of the features in the data will start out with too much influence upon the model."
   ]
  },
  {
   "cell_type": "code",
   "execution_count": 7,
   "metadata": {},
   "outputs": [],
   "source": [
    "# Normalize the data\n",
    "X_train = X_train / 255.0\n",
    "test = test / 255.0"
   ]
  },
  {
   "cell_type": "markdown",
   "metadata": {},
   "source": [
    "## Reshaping"
   ]
  },
  {
   "cell_type": "markdown",
   "metadata": {},
   "source": [
    "The reshaping is required so that the model can visualize the images in more than one dimension. This allows the model to detect various patterns in the pictures, such as the lines and curves that show up in certain numbers. Keras requires an additional dimension for channels, but we only need one chanel because our images have been converted to grayscale."
   ]
  },
  {
   "cell_type": "code",
   "execution_count": 8,
   "metadata": {},
   "outputs": [],
   "source": [
    "# Reshape image in 3 dimensions (height = 28px, width = 28px , canal = 1)\n",
    "X_train = X_train.values.reshape(-1,28,28,1)\n",
    "test = test.values.reshape(-1,28,28,1)"
   ]
  },
  {
   "cell_type": "markdown",
   "metadata": {},
   "source": [
    "## One Hot Encoding"
   ]
  },
  {
   "cell_type": "markdown",
   "metadata": {},
   "source": [
    "This line of code uses a method from Keras to transform each digit in the target column into ones and zeroes spread over 10 new target columns. For instance, if the digit is 2, the 10 target columns will contain the following vector: [0,0,1,0,0,0,0,0,0,0]"
   ]
  },
  {
   "cell_type": "code",
   "execution_count": 9,
   "metadata": {},
   "outputs": [],
   "source": [
    "# Encode labels to one hot vectors\n",
    "Y_train = to_categorical(Y_train, num_classes = 10)"
   ]
  },
  {
   "cell_type": "markdown",
   "metadata": {},
   "source": [
    "## Split for Model"
   ]
  },
  {
   "cell_type": "markdown",
   "metadata": {},
   "source": [
    "This process splits the data into training and validation. This split allow us to find the sweetspot for our model. In other words, it helps us to avoid underfitting and overfitting."
   ]
  },
  {
   "cell_type": "code",
   "execution_count": 10,
   "metadata": {},
   "outputs": [],
   "source": [
    "# Set the random seed\n",
    "random_seed = 2"
   ]
  },
  {
   "cell_type": "code",
   "execution_count": 11,
   "metadata": {},
   "outputs": [],
   "source": [
    "# Split the train and the validation set for the fitting\n",
    "X_train, X_val, Y_train, Y_val = train_test_split(X_train, Y_train, test_size = 0.1, random_state=random_seed)"
   ]
  },
  {
   "cell_type": "markdown",
   "metadata": {},
   "source": [
    "## Image Sample"
   ]
  },
  {
   "cell_type": "markdown",
   "metadata": {},
   "source": [
    "This code randomly selects a row from the training data. It convert the vector of 784 pixels into a 28-pixel by 28-pixel square photo. It displays the image in grayscale."
   ]
  },
  {
   "cell_type": "code",
   "execution_count": 12,
   "metadata": {},
   "outputs": [
    {
     "data": {
      "image/png": "[encoded data removed]",
      "text/plain": [
       "<Figure size 432x288 with 1 Axes>"
      ]
     },
     "metadata": {},
     "output_type": "display_data"
    }
   ],
   "source": [
    "# Display the image for a randomly selected observation in the predictors data\n",
    "num = random.randint(0,42000)\n",
    "sample_image = plt.imshow(X_train[num][:,:,0],cmap='gray')"
   ]
  },
  {
   "cell_type": "markdown",
   "metadata": {},
   "source": [
    "## Add Layers to Model"
   ]
  },
  {
   "cell_type": "markdown",
   "metadata": {},
   "source": [
    "These lines of code build the model with methods from Keras. The model will contain a convolutional neural network. We add a series of layers (input, hidden, and output) to the model. The Conv2D layers contain a kernal size that specifies the size of the \"window\" that will pass over each image, looking for patterns that can correlated with specific digits. The ReLU activation function is nonlinear because it allows us to keep positive values and replace negative values with zeroes. The MaxPool2D layer finds the highest values within defined spaces. The BatchNormalization layer rescales the weights the model has learned to improve the training time. The Dropout layer provides regularization, and avoids overfitting, by randomly removing a percentage of nodes from the model. The Flatten layer removes all but one of the dimensions of the data. Near the end of the model are a couple of Dense layers, which are characterized by having every node receive input from every node in the prior layer. The final layer is given 10 outputs and a Softmax activation so it can calculate a probability distribution for any given image over the 10 possible digits."
   ]
  },
  {
   "cell_type": "code",
   "execution_count": 13,
   "metadata": {},
   "outputs": [
    {
     "name": "stdout",
     "output_type": "stream",
     "text": [
      "WARNING:tensorflow:From C:\\Users\\Sterling\\Anaconda3\\lib\\site-packages\\tensorflow\\python\\framework\\op_def_library.py:263: colocate_with (from tensorflow.python.framework.ops) is deprecated and will be removed in a future version.\n",
      "Instructions for updating:\n",
      "Colocations handled automatically by placer.\n",
      "WARNING:tensorflow:From C:\\Users\\Sterling\\Anaconda3\\lib\\site-packages\\keras\\backend\\tensorflow_backend.py:3445: calling dropout (from tensorflow.python.ops.nn_ops) with keep_prob is deprecated and will be removed in a future version.\n",
      "Instructions for updating:\n",
      "Please use `rate` instead of `keep_prob`. Rate should be set to `rate = 1 - keep_prob`.\n"
     ]
    }
   ],
   "source": [
    "model = Sequential()\n",
    "\n",
    "model.add(Conv2D(filters = 32, kernel_size = (5,5),padding = 'Same', \n",
    "                 activation ='relu', input_shape = (28,28,1)))\n",
    "model.add(Conv2D(filters = 32, kernel_size = (5,5),padding = 'Same', \n",
    "                 activation ='relu'))\n",
    "model.add(MaxPool2D(pool_size=(2,2)))\n",
    "model.add(BatchNormalization())\n",
    "\n",
    "model.add(Conv2D(filters = 64, kernel_size = (3,3),padding = 'Same', \n",
    "                 activation ='relu'))\n",
    "model.add(Conv2D(filters = 64, kernel_size = (3,3),padding = 'Same', \n",
    "                 activation ='relu'))\n",
    "model.add(MaxPool2D(pool_size=(2,2), strides=(2,2)))\n",
    "model.add(Dropout(0.25))\n",
    "\n",
    "model.add(Flatten()) \n",
    "model.add(Dense(784, activation = \"relu\"))\n",
    "model.add(Dropout(0.5))\n",
    "model.add(Dense(10, activation = \"softmax\"))"
   ]
  },
  {
   "cell_type": "markdown",
   "metadata": {},
   "source": [
    "## Model Compiling"
   ]
  },
  {
   "cell_type": "markdown",
   "metadata": {},
   "source": [
    "These lines of code launch the RMSProp optimizer from Keras. We can specify the initial learning rate, which the model uses to determine the speed at which it will step through the multi-dimensional gradient to find an optimal solution. The rho, epsilon, and decay parameters also help determine the adaptive learning rate. The goal is to find significant valleys in the gradient that the model can descend to minimize its error rate. The loss function selected is ideal for classification projects, where the target values fall within a range of specified values. The accuracy metric allow us to see the accuracy score during the model fitting process. The model must be compiled with most of these parameters we can fit it to the data."
   ]
  },
  {
   "cell_type": "code",
   "execution_count": 14,
   "metadata": {},
   "outputs": [],
   "source": [
    "# Define the optimizer\n",
    "optimizer = RMSprop(lr = 0.001, rho = 0.9, epsilon = 1e-08, decay = 0.0)"
   ]
  },
  {
   "cell_type": "code",
   "execution_count": 15,
   "metadata": {},
   "outputs": [],
   "source": [
    "# Compile the model\n",
    "model.compile(optimizer = optimizer , loss = \"categorical_crossentropy\", metrics=[\"accuracy\"])"
   ]
  },
  {
   "cell_type": "markdown",
   "metadata": {},
   "source": [
    "## Learning Rate Reduction"
   ]
  },
  {
   "cell_type": "markdown",
   "metadata": {},
   "source": [
    "This monitor, available from Keras, reduces the learning rate for the model fitting process when the values for validation accuracy or loss hasn't improved for a specified number of epochs. Ideally, each epoch witnesses and increase in accuracy and a decline in loss each epoch. Each epoch is simply a pass through a batch of observations in the image data. Using a patience value of 2 or 3 is generally recommended. The factor determines the percentage by which the learning rate will be reduced during each update. The verbose parameter controls whether the model prints preliminary results during the fitting process. The monitor also has a minimum learning rate, so that the size of the steps toward gradient descent remain greater than or equal to a certain amount."
   ]
  },
  {
   "cell_type": "code",
   "execution_count": 16,
   "metadata": {},
   "outputs": [],
   "source": [
    "learning_rate_reduction = ReduceLROnPlateau(monitor='val_acc', patience=3, verbose=1, factor=0.5, min_lr=0.000001)"
   ]
  },
  {
   "cell_type": "code",
   "execution_count": 17,
   "metadata": {},
   "outputs": [],
   "source": [
    "epochs = 35 \n",
    "batch_size = 1400 \n",
    "steps_per_epoch = X_train.shape[0] // batch_size"
   ]
  },
  {
   "cell_type": "markdown",
   "metadata": {},
   "source": [
    "## Augmentation"
   ]
  },
  {
   "cell_type": "markdown",
   "metadata": {},
   "source": [
    "This is a method for slightly transforming images, which helps us to avoid overfitting. These movements occur in random amounts, up to certain limits. The rotations are no more than 10 degrees, the zooming is no more than 10 percent, and the shifts (horizontal and vertical) are no more than 10 percent. The idea is to teach the model how to recognize handwritten digits in a wider range of sizes and positions than would otherwise be available in the regular training data."
   ]
  },
  {
   "cell_type": "code",
   "execution_count": 18,
   "metadata": {},
   "outputs": [],
   "source": [
    "datagen = ImageDataGenerator(rotation_range=10, zoom_range = 0.1, width_shift_range=0.1, height_shift_range=0.1)\n",
    "datagen.fit(X_train)"
   ]
  },
  {
   "cell_type": "markdown",
   "metadata": {},
   "source": [
    "## Model Fitting"
   ]
  },
  {
   "cell_type": "markdown",
   "metadata": {},
   "source": [
    "During this process, the learning rate controls the rate of gradient descent as the model searches for minimum values. These values help the model to find optimized weights on the paths that connect nodes from adjacent layers. The weights and the input values are combined in a calculation that determines the node values in the first hidden layer, with a similar interaction occuring between weights and nodes for each subsequent layer. The iterations during the fitting process will also print a few values for each epoch: a loss value on the predictors not in validation, an accuracy score for the predictors not in validation, a validation loss on the predictors in validation, and a validation accuracy score for the predictors in validation."
   ]
  },
  {
   "cell_type": "code",
   "execution_count": 19,
   "metadata": {},
   "outputs": [
    {
     "name": "stdout",
     "output_type": "stream",
     "text": [
      "WARNING:tensorflow:From C:\\Users\\Sterling\\Anaconda3\\lib\\site-packages\\tensorflow\\python\\ops\\math_ops.py:3066: to_int32 (from tensorflow.python.ops.math_ops) is deprecated and will be removed in a future version.\n",
      "Instructions for updating:\n",
      "Use tf.cast instead.\n",
      "Epoch 1/35\n",
      "27/27 [==============================] - 134s 5s/step - loss: 1.6699 - acc: 0.5080 - val_loss: 0.2667 - val_acc: 0.9110\n",
      "Epoch 2/35\n",
      "27/27 [==============================] - 130s 5s/step - loss: 0.4223 - acc: 0.8687 - val_loss: 0.1068 - val_acc: 0.9667\n",
      "Epoch 3/35\n",
      "27/27 [==============================] - 127s 5s/step - loss: 0.2037 - acc: 0.9377 - val_loss: 0.0787 - val_acc: 0.9752\n",
      "Epoch 4/35\n",
      "27/27 [==============================] - 125s 5s/step - loss: 0.1499 - acc: 0.9531 - val_loss: 0.0528 - val_acc: 0.9831\n",
      "Epoch 5/35\n",
      "27/27 [==============================] - 124s 5s/step - loss: 0.1074 - acc: 0.9674 - val_loss: 0.0406 - val_acc: 0.9879\n",
      "Epoch 6/35\n",
      "27/27 [==============================] - 125s 5s/step - loss: 0.0772 - acc: 0.9760 - val_loss: 0.0428 - val_acc: 0.9852\n",
      "Epoch 7/35\n",
      "27/27 [==============================] - 125s 5s/step - loss: 0.0810 - acc: 0.9754 - val_loss: 0.0321 - val_acc: 0.9917\n",
      "Epoch 8/35\n",
      "27/27 [==============================] - 128s 5s/step - loss: 0.0666 - acc: 0.9803 - val_loss: 0.0612 - val_acc: 0.9805\n",
      "Epoch 9/35\n",
      "27/27 [==============================] - 128s 5s/step - loss: 0.0625 - acc: 0.9805 - val_loss: 0.0409 - val_acc: 0.9883\n",
      "Epoch 10/35\n",
      "27/27 [==============================] - 127s 5s/step - loss: 0.0519 - acc: 0.9836 - val_loss: 0.0299 - val_acc: 0.9914\n",
      "\n",
      "Epoch 00010: ReduceLROnPlateau reducing learning rate to 0.000750000006519258.\n",
      "Epoch 11/35\n",
      "27/27 [==============================] - 125s 5s/step - loss: 0.0350 - acc: 0.9893 - val_loss: 0.0235 - val_acc: 0.9933\n",
      "Epoch 12/35\n",
      "27/27 [==============================] - 125s 5s/step - loss: 0.0309 - acc: 0.9903 - val_loss: 0.0238 - val_acc: 0.9929\n",
      "Epoch 13/35\n",
      "27/27 [==============================] - 123s 5s/step - loss: 0.0313 - acc: 0.9903 - val_loss: 0.0187 - val_acc: 0.9950\n",
      "Epoch 14/35\n",
      "27/27 [==============================] - 127s 5s/step - loss: 0.0301 - acc: 0.9907 - val_loss: 0.0183 - val_acc: 0.9940\n",
      "Epoch 15/35\n",
      "27/27 [==============================] - 129s 5s/step - loss: 0.0277 - acc: 0.9915 - val_loss: 0.0189 - val_acc: 0.9952\n",
      "Epoch 16/35\n",
      "27/27 [==============================] - 128s 5s/step - loss: 0.0259 - acc: 0.9919 - val_loss: 0.0211 - val_acc: 0.9931\n",
      "Epoch 17/35\n",
      "27/27 [==============================] - 128s 5s/step - loss: 0.0280 - acc: 0.9919 - val_loss: 0.0165 - val_acc: 0.9952\n",
      "Epoch 18/35\n",
      "27/27 [==============================] - 127s 5s/step - loss: 0.0259 - acc: 0.9918 - val_loss: 0.0214 - val_acc: 0.9943\n",
      "\n",
      "Epoch 00018: ReduceLROnPlateau reducing learning rate to 0.000375000003259629.\n",
      "Epoch 19/35\n",
      "27/27 [==============================] - 127s 5s/step - loss: 0.0221 - acc: 0.9930 - val_loss: 0.0151 - val_acc: 0.9955\n",
      "Epoch 20/35\n",
      "27/27 [==============================] - 132s 5s/step - loss: 0.0199 - acc: 0.9939 - val_loss: 0.0154 - val_acc: 0.9952\n",
      "Epoch 21/35\n",
      "27/27 [==============================] - 130s 5s/step - loss: 0.0207 - acc: 0.9937 - val_loss: 0.0145 - val_acc: 0.9955\n",
      "Epoch 22/35\n",
      "27/27 [==============================] - 129s 5s/step - loss: 0.0191 - acc: 0.9939 - val_loss: 0.0145 - val_acc: 0.9955\n",
      "\n",
      "Epoch 00022: ReduceLROnPlateau reducing learning rate to 0.0001875000016298145.\n",
      "Epoch 23/35\n",
      "27/27 [==============================] - 129s 5s/step - loss: 0.0178 - acc: 0.9945 - val_loss: 0.0150 - val_acc: 0.9957\n",
      "Epoch 24/35\n",
      "27/27 [==============================] - 133s 5s/step - loss: 0.0169 - acc: 0.9948 - val_loss: 0.0142 - val_acc: 0.9960\n",
      "Epoch 25/35\n",
      "27/27 [==============================] - 128s 5s/step - loss: 0.0173 - acc: 0.9945 - val_loss: 0.0153 - val_acc: 0.9955\n",
      "Epoch 26/35\n",
      "27/27 [==============================] - 132s 5s/step - loss: 0.0153 - acc: 0.9956 - val_loss: 0.0138 - val_acc: 0.9955\n",
      "Epoch 27/35\n",
      "27/27 [==============================] - 131s 5s/step - loss: 0.0165 - acc: 0.9946 - val_loss: 0.0150 - val_acc: 0.9955\n",
      "\n",
      "Epoch 00027: ReduceLROnPlateau reducing learning rate to 9.375000081490725e-05.\n",
      "Epoch 28/35\n",
      "27/27 [==============================] - 132s 5s/step - loss: 0.0148 - acc: 0.9955 - val_loss: 0.0138 - val_acc: 0.9962\n",
      "Epoch 29/35\n",
      "27/27 [==============================] - 1193s 44s/step - loss: 0.0150 - acc: 0.9953 - val_loss: 0.0151 - val_acc: 0.9962\n",
      "Epoch 30/35\n",
      "27/27 [==============================] - 222s 8s/step - loss: 0.0153 - acc: 0.9952 - val_loss: 0.0154 - val_acc: 0.9960\n",
      "Epoch 31/35\n",
      "27/27 [==============================] - 226s 8s/step - loss: 0.0142 - acc: 0.9956 - val_loss: 0.0147 - val_acc: 0.9960\n",
      "\n",
      "Epoch 00031: ReduceLROnPlateau reducing learning rate to 4.6875000407453626e-05.\n",
      "Epoch 32/35\n",
      "27/27 [==============================] - 218s 8s/step - loss: 0.0107 - acc: 0.9966 - val_loss: 0.0147 - val_acc: 0.9960\n",
      "Epoch 33/35\n",
      "27/27 [==============================] - 211s 8s/step - loss: 0.0133 - acc: 0.9959 - val_loss: 0.0147 - val_acc: 0.9960\n",
      "Epoch 34/35\n",
      "27/27 [==============================] - 214s 8s/step - loss: 0.0137 - acc: 0.9956 - val_loss: 0.0144 - val_acc: 0.9957\n",
      "\n",
      "Epoch 00034: ReduceLROnPlateau reducing learning rate to 2.3437500203726813e-05.\n",
      "Epoch 35/35\n",
      "27/27 [==============================] - 380s 14s/step - loss: 0.0151 - acc: 0.9952 - val_loss: 0.0144 - val_acc: 0.9957\n"
     ]
    }
   ],
   "source": [
    "history = model.fit_generator(datagen.flow(X_train,Y_train, batch_size=batch_size), epochs = epochs, \n",
    "                              validation_data = (X_val,Y_val), steps_per_epoch = steps_per_epoch, \n",
    "                              callbacks=[learning_rate_reduction]) "
   ]
  },
  {
   "cell_type": "markdown",
   "metadata": {},
   "source": [
    "## Prepare for Kaggle Submission"
   ]
  },
  {
   "cell_type": "markdown",
   "metadata": {},
   "source": [
    "These lines of code use the model to prepare predictions for each observation in the test data. We then generate index numbers, starting at 1, equal to the number of test observations. Together, these two series are saved, with specific names attached, as a single csv file. These are the specifications required for submission files to the Kaggle competition."
   ]
  },
  {
   "cell_type": "code",
   "execution_count": 20,
   "metadata": {},
   "outputs": [],
   "source": [
    "# predict results for the test data\n",
    "results = model.predict(test)"
   ]
  },
  {
   "cell_type": "code",
   "execution_count": 21,
   "metadata": {},
   "outputs": [],
   "source": [
    "# get the number of rows from the dimensions of the results data, which is based on the rows in the test data\n",
    "rows = results.shape[0]"
   ]
  },
  {
   "cell_type": "code",
   "execution_count": 22,
   "metadata": {},
   "outputs": [],
   "source": [
    "# Out of the 10 target columns, select the one with the highest value, which indicates the predicted digit \n",
    "results = np.argmax(results,axis = 1)"
   ]
  },
  {
   "cell_type": "code",
   "execution_count": 23,
   "metadata": {},
   "outputs": [],
   "source": [
    "# convert those predictions into a Pandas series titled \"Label\"\n",
    "results = pd.Series(results,name=\"Label\")"
   ]
  },
  {
   "cell_type": "code",
   "execution_count": 24,
   "metadata": {},
   "outputs": [],
   "source": [
    "# combine a list of index numbers from 1 to 28,000 with the \"Label\"\n",
    "submission = pd.concat([pd.Series(range(1,rows+1),name = \"ImageId\"),results],axis = 1)"
   ]
  },
  {
   "cell_type": "code",
   "execution_count": 25,
   "metadata": {},
   "outputs": [],
   "source": [
    "# turn the labels and index numbers into a csv file that can be submitted to Kaggle\n",
    "submission.to_csv(\"submission.csv\",index=False)"
   ]
  },
  {
   "cell_type": "code",
   "execution_count": 26,
   "metadata": {},
   "outputs": [
    {
     "name": "stdout",
     "output_type": "stream",
     "text": [
      "The submission file has been saved to the same folder as this program.\n"
     ]
    }
   ],
   "source": [
    "print(\"The submission file has been saved to the same folder as this program.\")"
   ]
  }
 ],
 "metadata": {
  "kernelspec": {
   "display_name": "Python 3",
   "language": "python",
   "name": "python3"
  },
  "language_info": {
   "codemirror_mode": {
    "name": "ipython",
    "version": 3
   },
   "file_extension": ".py",
   "mimetype": "text/x-python",
   "name": "python",
   "nbconvert_exporter": "python",
   "pygments_lexer": "ipython3",
   "version": "3.6.4"
  }
 },
 "nbformat": 4,
 "nbformat_minor": 2
}
